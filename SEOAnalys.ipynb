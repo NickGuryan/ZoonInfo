{
 "cells": [
  {
   "cell_type": "code",
   "execution_count": 18,
   "metadata": {
    "collapsed": true
   },
   "outputs": [],
   "source": [
    "import requests\n",
    "from lxml import html\n",
    "import pandas as pd\n",
    "import time\n",
    "import base64\n",
    "import random"
   ]
  },
  {
   "cell_type": "code",
   "execution_count": 43,
   "metadata": {
    "collapsed": true
   },
   "outputs": [],
   "source": [
    "def prePage(url):\n",
    "    time.sleep(2)\n",
    "    page =  requests.get(url)\n",
    "    tree = html.fromstring(page.content)\n",
    "    \n",
    "    return tree"
   ]
  },
  {
   "cell_type": "code",
   "execution_count": 44,
   "metadata": {
    "collapsed": true
   },
   "outputs": [],
   "source": [
    "def metroList():\n",
    "    data = pd.DataFrame()\n",
    "    page = prePage('https://zoon.ru/msk/beauty/metro/')\n",
    "    metro = []\n",
    "    links = []\n",
    "    count = []\n",
    "    c = 0\n",
    "    \n",
    "    lol = {}\n",
    "    \n",
    "    for one in page.cssselect('li.feed-box'):\n",
    "        #print(one.cssselect('a.block-link.title')[0].text_content())\n",
    "        #print(one.cssselect('a.block-link.title')[0].attrib.get('href'))\n",
    "        #print(one.cssselect('div.description a')[0].text_content())\n",
    "        #metro.append(one.cssselect('a.block-link.title')[0].text_content())\n",
    "        lol[one.cssselect('a.block-link.title')[0].attrib.get('href')] = one.cssselect('a.block-link.title')[0].text_content()\n",
    "        #links.append(one.cssselect('a.block-link.title')[0].attrib.get('href'))\n",
    "        #s = one.cssselect('div.description a')[0].text_content()\n",
    "        #s = int(s[:s.find(' ')])\n",
    "        #count.append(s)\n",
    "        #c += s\n",
    "        \n",
    "    #data['metro'] = metro\n",
    "    #data['url'] = links\n",
    "    #data['count'] = count\n",
    "    \n",
    "    #print(c)\n",
    "    #res = [data, \n",
    "    #return links\n",
    "    return lol"
   ]
  },
  {
   "cell_type": "code",
   "execution_count": 45,
   "metadata": {
    "collapsed": true
   },
   "outputs": [],
   "source": [
    "def parse(urls):\n",
    "    log = []\n",
    "    for url in urls.keys():\n",
    "        page =  prePage(url)\n",
    "        #tree = html.fromstring(page.content)\n",
    "        s = str(page.cssselect('script.points')[0].text_content())+\"#h\"+urls[url]+\"#\"\n",
    "        #log.append(page.cssselect('script.points')[0].text_content())\n",
    "        log.append(s)\n",
    "        '''\n",
    "        head = tree.head.getchildren()\n",
    "        for item in head:\n",
    "            if(item.tag == 'title'):\n",
    "                print('Title:', item.text)\n",
    "            elif(item.tag == 'meta'):\n",
    "                if(item.attrib.get('name') == 'description'):\n",
    "                    print('Description:',item.attrib.get('content'))\n",
    "                if(item.attrib.get('name') == 'keywords'):\n",
    "                    print('Keywords:',item.attrib.get('content'))\n",
    "        \n",
    "        print(tree.cssselect('script.points')[0].text_content())'''\n",
    "        \n",
    "    return log\n",
    "        \n",
    "       \n",
    "        "
   ]
  },
  {
   "cell_type": "code",
   "execution_count": 46,
   "metadata": {
    "collapsed": true
   },
   "outputs": [],
   "source": [
    "z = metroList()"
   ]
  },
  {
   "cell_type": "code",
   "execution_count": 47,
   "metadata": {},
   "outputs": [
    {
     "name": "stdout",
     "output_type": "stream",
     "text": [
      "CPU times: user 14.2 s, sys: 416 ms, total: 14.6 s\n",
      "Wall time: 10min 18s\n"
     ]
    }
   ],
   "source": [
    "%time log = parse(z)"
   ]
  },
  {
   "cell_type": "code",
   "execution_count": 48,
   "metadata": {},
   "outputs": [
    {
     "data": {
      "text/plain": [
       "'Южная'"
      ]
     },
     "execution_count": 48,
     "metadata": {},
     "output_type": "execute_result"
    }
   ],
   "source": [
    "log[0][log[0].rfind('#h')+2:len(log[0])-1]"
   ]
  },
  {
   "cell_type": "markdown",
   "metadata": {},
   "source": [
    "# Unicalize"
   ]
  },
  {
   "cell_type": "code",
   "execution_count": 49,
   "metadata": {
    "collapsed": true
   },
   "outputs": [],
   "source": [
    "import json"
   ]
  },
  {
   "cell_type": "code",
   "execution_count": 50,
   "metadata": {
    "collapsed": true
   },
   "outputs": [],
   "source": [
    "def to_json(data):\n",
    "    res = []\n",
    "    for d in data:\n",
    "        metro = d[d.rfind('#h')+2:len(d)-1]\n",
    "        nd = json.loads(d[:d.rfind('#h')])\n",
    "        for i in nd:\n",
    "            i['metro'] = metro\n",
    "            res.append(i)\n",
    "    \n",
    "    return res"
   ]
  },
  {
   "cell_type": "code",
   "execution_count": 51,
   "metadata": {
    "collapsed": true
   },
   "outputs": [],
   "source": [
    "json_log = to_json(log)"
   ]
  },
  {
   "cell_type": "code",
   "execution_count": 166,
   "metadata": {
    "collapsed": true
   },
   "outputs": [],
   "source": [
    "def to_csv(data):\n",
    "    res = pd.DataFrame()\n",
    "    \n",
    "    res['ID'] = [i['id'] for i in data]\n",
    "    res['title'] = [i['name'].replace('&amp;', '&').replace('&#039;', '').replace('&quot;', '\"') for i in data]\n",
    "    res['metro'] = [i['metro'] for i in data]\n",
    "    res['types'] = [i['type'] for i in data]\n",
    "    res['premium'] = [i['premium'] for i in data]\n",
    "    res['lon'] = [i['lonlat'][0] for i in data]\n",
    "    res['lat'] = [i['lonlat'][1] for i in data]\n",
    "    \n",
    "    res = res.drop_duplicates()\n",
    "    \n",
    "    return res"
   ]
  },
  {
   "cell_type": "code",
   "execution_count": 167,
   "metadata": {
    "collapsed": true
   },
   "outputs": [],
   "source": [
    "log = to_csv(json_log)"
   ]
  },
  {
   "cell_type": "code",
   "execution_count": 168,
   "metadata": {},
   "outputs": [
    {
     "data": {
      "text/plain": [
       "array([ True, False], dtype=bool)"
      ]
     },
     "execution_count": 168,
     "metadata": {},
     "output_type": "execute_result"
    }
   ],
   "source": [
    "log.premium.unique()"
   ]
  },
  {
   "cell_type": "code",
   "execution_count": 169,
   "metadata": {
    "collapsed": true
   },
   "outputs": [],
   "source": [
    "LEG = log.copy()"
   ]
  },
  {
   "cell_type": "code",
   "execution_count": 170,
   "metadata": {
    "collapsed": true
   },
   "outputs": [],
   "source": [
    "del LEG['metro']"
   ]
  },
  {
   "cell_type": "code",
   "execution_count": 171,
   "metadata": {
    "collapsed": true
   },
   "outputs": [],
   "source": [
    "LEG = LEG.drop_duplicates()"
   ]
  },
  {
   "cell_type": "code",
   "execution_count": 172,
   "metadata": {},
   "outputs": [
    {
     "name": "stdout",
     "output_type": "stream",
     "text": [
      "CPU times: user 44.4 s, sys: 156 ms, total: 44.6 s\n",
      "Wall time: 44.5 s\n"
     ]
    }
   ],
   "source": [
    "%time LEG['metro_cat'] = LEG['ID'].apply(lambda x: ','.join(log[log.ID == x].metro.tolist())).astype(str)"
   ]
  },
  {
   "cell_type": "code",
   "execution_count": 173,
   "metadata": {},
   "outputs": [
    {
     "data": {
      "text/plain": [
       "array([ True, False], dtype=bool)"
      ]
     },
     "execution_count": 173,
     "metadata": {},
     "output_type": "execute_result"
    }
   ],
   "source": [
    "LEG.premium.unique()"
   ]
  },
  {
   "cell_type": "code",
   "execution_count": 174,
   "metadata": {},
   "outputs": [
    {
     "data": {
      "text/plain": [
       "False    10418\n",
       "True       463\n",
       "Name: premium, dtype: int64"
      ]
     },
     "execution_count": 174,
     "metadata": {},
     "output_type": "execute_result"
    }
   ],
   "source": [
    "LEG.premium.value_counts()"
   ]
  },
  {
   "cell_type": "code",
   "execution_count": 175,
   "metadata": {},
   "outputs": [
    {
     "data": {
      "text/html": [
       "<div>\n",
       "<style>\n",
       "    .dataframe thead tr:only-child th {\n",
       "        text-align: right;\n",
       "    }\n",
       "\n",
       "    .dataframe thead th {\n",
       "        text-align: left;\n",
       "    }\n",
       "\n",
       "    .dataframe tbody tr th {\n",
       "        vertical-align: top;\n",
       "    }\n",
       "</style>\n",
       "<table border=\"1\" class=\"dataframe\">\n",
       "  <thead>\n",
       "    <tr style=\"text-align: right;\">\n",
       "      <th></th>\n",
       "      <th>ID</th>\n",
       "      <th>title</th>\n",
       "      <th>types</th>\n",
       "      <th>premium</th>\n",
       "      <th>lon</th>\n",
       "      <th>lat</th>\n",
       "      <th>metro_cat</th>\n",
       "    </tr>\n",
       "  </thead>\n",
       "  <tbody>\n",
       "    <tr>\n",
       "      <th>1896</th>\n",
       "      <td>52045a91a0f302db0f00001f</td>\n",
       "      <td>Салон красоты 10 &amp; 10 в Басманном</td>\n",
       "      <td>beauty</td>\n",
       "      <td>False</td>\n",
       "      <td>37.637201</td>\n",
       "      <td>55.762474</td>\n",
       "      <td>Сретенский бульвар,Тургеневская,Чистые пруды,К...</td>\n",
       "    </tr>\n",
       "  </tbody>\n",
       "</table>\n",
       "</div>"
      ],
      "text/plain": [
       "                            ID                              title   types  \\\n",
       "1896  52045a91a0f302db0f00001f  Салон красоты 10 & 10 в Басманном  beauty   \n",
       "\n",
       "      premium        lon        lat  \\\n",
       "1896    False  37.637201  55.762474   \n",
       "\n",
       "                                              metro_cat  \n",
       "1896  Сретенский бульвар,Тургеневская,Чистые пруды,К...  "
      ]
     },
     "execution_count": 175,
     "metadata": {},
     "output_type": "execute_result"
    }
   ],
   "source": [
    "LEG[LEG.ID == '52045a91a0f302db0f00001f']"
   ]
  },
  {
   "cell_type": "code",
   "execution_count": 176,
   "metadata": {},
   "outputs": [
    {
     "data": {
      "text/html": [
       "<div>\n",
       "<style>\n",
       "    .dataframe thead tr:only-child th {\n",
       "        text-align: right;\n",
       "    }\n",
       "\n",
       "    .dataframe thead th {\n",
       "        text-align: left;\n",
       "    }\n",
       "\n",
       "    .dataframe tbody tr th {\n",
       "        vertical-align: top;\n",
       "    }\n",
       "</style>\n",
       "<table border=\"1\" class=\"dataframe\">\n",
       "  <thead>\n",
       "    <tr style=\"text-align: right;\">\n",
       "      <th></th>\n",
       "      <th>ID</th>\n",
       "      <th>title</th>\n",
       "      <th>metro</th>\n",
       "      <th>types</th>\n",
       "      <th>premium</th>\n",
       "      <th>lon</th>\n",
       "      <th>lat</th>\n",
       "    </tr>\n",
       "  </thead>\n",
       "  <tbody>\n",
       "    <tr>\n",
       "      <th>8752</th>\n",
       "      <td>52c0249a40c0886b7c8bf72a</td>\n",
       "      <td>Салон красоты АРТ Студия (ШАРМ) на Моршанской ...</td>\n",
       "      <td>Лермонтовский проспект</td>\n",
       "      <td>beauty</td>\n",
       "      <td>False</td>\n",
       "      <td>37.856604</td>\n",
       "      <td>55.696149</td>\n",
       "    </tr>\n",
       "  </tbody>\n",
       "</table>\n",
       "</div>"
      ],
      "text/plain": [
       "                            ID  \\\n",
       "8752  52c0249a40c0886b7c8bf72a   \n",
       "\n",
       "                                                  title  \\\n",
       "8752  Салон красоты АРТ Студия (ШАРМ) на Моршанской ...   \n",
       "\n",
       "                       metro   types  premium        lon        lat  \n",
       "8752  Лермонтовский проспект  beauty    False  37.856604  55.696149  "
      ]
     },
     "execution_count": 176,
     "metadata": {},
     "output_type": "execute_result"
    }
   ],
   "source": [
    "log[log.ID == '52c0249a40c0886b7c8bf72a']"
   ]
  },
  {
   "cell_type": "code",
   "execution_count": 177,
   "metadata": {
    "collapsed": true
   },
   "outputs": [],
   "source": [
    "LEG.to_csv('ZoonBeaty - all_salon - v1.csv', index=False, encoding = 'utf-8')"
   ]
  },
  {
   "cell_type": "markdown",
   "metadata": {},
   "source": [
    "# Reviews,Prices and URLs"
   ]
  },
  {
   "cell_type": "code",
   "execution_count": 150,
   "metadata": {
    "collapsed": true
   },
   "outputs": [],
   "source": [
    "l = 'https://zoon.ru/js.php?area=service&action=CommentList&organization=51945fcca0f302a235000042&sort=default'"
   ]
  },
  {
   "cell_type": "markdown",
   "metadata": {},
   "source": [
    "Url парсить нет необходимости, ZoonID ведет на карточку товара. Следовательно, парсим отзывы и отдельно карточку. <br>\n",
    "2 типа карточек: <b>free & paid</b><br>\n",
    "Телефон парсится через href без 'tel:+' <br>\n",
    "*Можно встроить JSON парсинг в основной парсинг по метро*<br>\n",
    "3 базы - все салоны, данные из карточек, отзывы<br>\n",
    "TypesFilter"
   ]
  },
  {
   "cell_type": "markdown",
   "metadata": {},
   "source": [
    "# URLs - NotPremium"
   ]
  },
  {
   "cell_type": "code",
   "execution_count": 226,
   "metadata": {
    "collapsed": true
   },
   "outputs": [],
   "source": [
    "def createProxy():\n",
    "    proxy = {}\n",
    "    data = pd.read_csv('hidemy_proxy_http.csv')\n",
    "    ip_list = list(data.IP)\n",
    "    port_list = list(data.Port)\n",
    "    type_list = list(data.Type)\n",
    "    for i in range(0, len(ip_list)):\n",
    "        proxy[i+1] = type_list[i].lower()+';'+str(ip_list[i])+':'+str(port_list[i])\n",
    "    print('Proxy:',len(proxy))\n",
    "    return proxy"
   ]
  },
  {
   "cell_type": "code",
   "execution_count": 232,
   "metadata": {
    "collapsed": true
   },
   "outputs": [],
   "source": [
    "def prePageV2(url, proxy):\n",
    "    rnd = random.randint(1, len(proxy)+1)\n",
    "    proxies = {proxy[rnd][:proxy[rnd].find(';')]: proxy[rnd][proxy[rnd].find(';')+1:]\n",
    "                #'https':'185.8.5.219:443'\n",
    "            }\n",
    "    time.sleep(3)\n",
    "    page = requests.post(url, proxies=proxies)\n",
    "    tree = html.fromstring(page.content)\n",
    "    #print(page.status_code == 200)\n",
    "    return tree"
   ]
  },
  {
   "cell_type": "code",
   "execution_count": 233,
   "metadata": {
    "collapsed": true
   },
   "outputs": [],
   "source": [
    "def not_premium(data):\n",
    "    data = data.copy()\n",
    "    metro = {}\n",
    "    tel = {}\n",
    "    rating = {}\n",
    "    ratingCount = {}\n",
    "    reviewCount = {}\n",
    "    address = {}\n",
    "    timing = {}\n",
    "    desc = {}\n",
    "    sites = {}\n",
    "    \n",
    "    proxy = createProxy()\n",
    "    \n",
    "    k = 1\n",
    "    for ID in list(data.ID):\n",
    "        try:\n",
    "            page = prePageV2('https://zoon.ru/msk/beauty/'+str(ID), proxy)\n",
    "        except:\n",
    "            page = prePageV2('https://zoon.ru/msk/beauty/'+str(ID), proxy)\n",
    "        '''\n",
    "        try:\n",
    "            #m = page.cssselect('div.service-page-header h1')[0].text_content().replace('\\n','').replace('\\t','')\n",
    "            #print(k)\n",
    "            #print(m)\n",
    "        except:\n",
    "            page = prePageV2('https://zoon.ru/msk/beauty/'+str(ID), proxy)\n",
    "            break\n",
    "            print('FAIL')\n",
    "            return 'FAIL'''\n",
    "        \n",
    "        try:\n",
    "            metro[ID] = page.cssselect('div.map-text span a')[0].text_content()\n",
    "        except:\n",
    "            metro[ID] = '-'\n",
    "            \n",
    "        try:\n",
    "            tel[ID] = page.cssselect('a.tel-phone.js-phone-number')[0].attrib.get('href')[5:]\n",
    "        except:\n",
    "            tel[ID] = '-'\n",
    "            \n",
    "        try:\n",
    "            rating[ID] = page.xpath('//span[@itemprop=\"ratingValue\"]/text()')[0]\n",
    "        except:\n",
    "            rating[ID] = 0\n",
    "            \n",
    "        try:\n",
    "            reviewCount[ID] = page.xpath('//span[@itemprop=\"reviewCount\"]/text()')[0]\n",
    "        except:\n",
    "            reviewCount[ID] = 0\n",
    "        \n",
    "        try:\n",
    "            ratingCount[ID] = page.xpath('//span[@itemprop=\"ratingCount\"]/text()')[0]\n",
    "        except:\n",
    "            ratingCount[ID] = 0\n",
    "        \n",
    "        try:\n",
    "            address[ID] = page.cssselect('address.iblock')[0].text_content()\n",
    "        except:\n",
    "            address[ID] = '-'\n",
    "        \n",
    "        try:\n",
    "            s = page.cssselect('dl.fluid.uit-cover dd.simple-text div')[0].text_content()\n",
    "            timing[ID] = ' '.join(s.split(' ')[2:])\n",
    "        except:\n",
    "            timing[ID] = '-'\n",
    "            \n",
    "        try:\n",
    "            s1 =  page.cssselect('dd.simple-text.js-desc.oh.word-break')[0].text_content()\n",
    "            desc[ID] = s1.replace('...','').replace('показать еще','').replace('\\t',' ').replace('\\n',' ')\n",
    "        except:\n",
    "            desc[ID] = '-'\n",
    "        \n",
    "        try:\n",
    "            sites[ID] = page.cssselect('div.service-website a')[0].text_content()\n",
    "        except:\n",
    "            sites[ID] = '-'\n",
    "            \n",
    "        #s2 = page.cssselect('div.service-description-block.invisible-links div.params-list')\n",
    "        #s3 = s2[s2.find('data = \"')+8:s2.find('\";')]\n",
    "        #print(s2)\n",
    "        #print(s3)\n",
    "        print('Success ID:', ID, 'Left: ',len(list(data.ID))-k)\n",
    "        k+=1\n",
    "    \n",
    "    data['metro'] = data.ID.apply(lambda x: metro[x]).astype(str)\n",
    "    data['tel'] = data.ID.apply(lambda x: tel[x]).astype(str)\n",
    "    data['rating'] = data.ID.apply(lambda x: rating[x]).astype(float)\n",
    "    data['ratingCount'] = data.ID.apply(lambda x: ratingCount[x]).astype(int)\n",
    "    data['reviewCount'] = data.ID.apply(lambda x: reviewCount[x]).astype(int)\n",
    "    data['address'] = data.ID.apply(lambda x: address[x]).astype(str)\n",
    "    data['timing'] = data.ID.apply(lambda x: timing[x]).astype(str)\n",
    "    data['description'] = data.ID.apply(lambda x: desc[x]).astype(str)\n",
    "    data['site'] = data.ID.apply(lambda x: sites[x]).astype(str)\n",
    "    \n",
    "    #data[''] = data.ID.apply(lambda x: )\n",
    "    \n",
    "    #one_photo - parsing from home_listings\n",
    "    #price_list - separately parser - ?\n",
    "    #roubrics:tags - trouble JS - parsing from home_listings - OK\n",
    "    return data"
   ]
  },
  {
   "cell_type": "code",
   "execution_count": 234,
   "metadata": {
    "collapsed": true
   },
   "outputs": [],
   "source": [
    "#data = pd.read_csv('ZoonBeaty - all_salon - v1.csv')\n",
    "data = LEG"
   ]
  },
  {
   "cell_type": "code",
   "execution_count": 237,
   "metadata": {},
   "outputs": [
    {
     "name": "stdout",
     "output_type": "stream",
     "text": [
      "Proxy: 75\n",
      "Success ID: 56207b20aecee0c62f8b4568 Left:  0\n"
     ]
    }
   ],
   "source": [
    "LOG = not_premium(data[:1])"
   ]
  },
  {
   "cell_type": "code",
   "execution_count": 238,
   "metadata": {},
   "outputs": [
    {
     "data": {
      "text/html": [
       "<div>\n",
       "<style>\n",
       "    .dataframe thead tr:only-child th {\n",
       "        text-align: right;\n",
       "    }\n",
       "\n",
       "    .dataframe thead th {\n",
       "        text-align: left;\n",
       "    }\n",
       "\n",
       "    .dataframe tbody tr th {\n",
       "        vertical-align: top;\n",
       "    }\n",
       "</style>\n",
       "<table border=\"1\" class=\"dataframe\">\n",
       "  <thead>\n",
       "    <tr style=\"text-align: right;\">\n",
       "      <th></th>\n",
       "      <th>ID</th>\n",
       "      <th>title</th>\n",
       "      <th>types</th>\n",
       "      <th>premium</th>\n",
       "      <th>lon</th>\n",
       "      <th>lat</th>\n",
       "      <th>metro_cat</th>\n",
       "      <th>metro</th>\n",
       "      <th>tel</th>\n",
       "      <th>rating</th>\n",
       "      <th>ratingCount</th>\n",
       "      <th>reviewCount</th>\n",
       "      <th>address</th>\n",
       "      <th>timing</th>\n",
       "      <th>description</th>\n",
       "      <th>site</th>\n",
       "    </tr>\n",
       "  </thead>\n",
       "  <tbody>\n",
       "    <tr>\n",
       "      <th>0</th>\n",
       "      <td>56207b20aecee0c62f8b4568</td>\n",
       "      <td>Студия BIGODINI STUDIO на Варшавском шоссе</td>\n",
       "      <td>beauty</td>\n",
       "      <td>True</td>\n",
       "      <td>37.616032</td>\n",
       "      <td>55.629097</td>\n",
       "      <td>Южная</td>\n",
       "      <td>Южная</td>\n",
       "      <td>74951146300</td>\n",
       "      <td>4.5</td>\n",
       "      <td>96</td>\n",
       "      <td>36</td>\n",
       "      <td>Москва,  Варшавское шоссе,  122, 1 этаж</td>\n",
       "      <td>ежедневно: 10:00 - 21:00График работы в праздн...</td>\n",
       "      <td>Добро пожаловать в студию красоты «BIGOD...</td>\n",
       "      <td>bigodini-studio.ru</td>\n",
       "    </tr>\n",
       "  </tbody>\n",
       "</table>\n",
       "</div>"
      ],
      "text/plain": [
       "                         ID                                       title  \\\n",
       "0  56207b20aecee0c62f8b4568  Студия BIGODINI STUDIO на Варшавском шоссе   \n",
       "\n",
       "    types  premium        lon        lat metro_cat  metro          tel  \\\n",
       "0  beauty     True  37.616032  55.629097     Южная  Южная  74951146300   \n",
       "\n",
       "   rating  ratingCount  reviewCount                                  address  \\\n",
       "0     4.5           96           36  Москва,  Варшавское шоссе,  122, 1 этаж   \n",
       "\n",
       "                                              timing  \\\n",
       "0  ежедневно: 10:00 - 21:00График работы в праздн...   \n",
       "\n",
       "                                         description                site  \n",
       "0        Добро пожаловать в студию красоты «BIGOD...  bigodini-studio.ru  "
      ]
     },
     "execution_count": 238,
     "metadata": {},
     "output_type": "execute_result"
    }
   ],
   "source": [
    "LOG"
   ]
  },
  {
   "cell_type": "code",
   "execution_count": 259,
   "metadata": {
    "collapsed": true
   },
   "outputs": [],
   "source": [
    "LOG.to_csv('ZoonBeauty - 200-360.csv', index=False, encoding='utf-8')"
   ]
  },
  {
   "cell_type": "code",
   "execution_count": null,
   "metadata": {
    "collapsed": true
   },
   "outputs": [],
   "source": [
    "p = "
   ]
  }
 ],
 "metadata": {
  "anaconda-cloud": {},
  "kernelspec": {
   "display_name": "Python 3",
   "language": "python",
   "name": "python3"
  },
  "language_info": {
   "codemirror_mode": {
    "name": "ipython",
    "version": 3
   },
   "file_extension": ".py",
   "mimetype": "text/x-python",
   "name": "python",
   "nbconvert_exporter": "python",
   "pygments_lexer": "ipython3",
   "version": "3.5.2"
  }
 },
 "nbformat": 4,
 "nbformat_minor": 1
}
